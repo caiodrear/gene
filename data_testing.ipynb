{
 "cells": [
  {
   "cell_type": "code",
   "execution_count": 127,
   "metadata": {},
   "outputs": [],
   "source": [
    "import pandas as pd\n",
    "\n",
    "data = pd.read_csv('data/22-23/player_data.csv')"
   ]
  },
  {
   "cell_type": "code",
   "execution_count": 128,
   "metadata": {},
   "outputs": [],
   "source": [
    "def add_team_performance(data, window_size=38):\n",
    "\n",
    "    x_home_goals = data[data['was_home']].groupby(\n",
    "        ['fixture', 'team_h'], as_index=False)[['expected_goals']].sum()\n",
    "    x_away_goals = data[~data['was_home']].groupby(\n",
    "        ['fixture', 'team_a'], as_index=False)[['expected_goals']].sum()\n",
    "\n",
    "    xG_table = x_away_goals.merge(\n",
    "        x_home_goals, on='fixture', suffixes=['_a', '_h'])\n",
    "\n",
    "    x_home_goals = xG_table[\n",
    "        ['fixture', 'team_h', 'expected_goals_h', 'expected_goals_a']].rename(\n",
    "        columns={\n",
    "            'team_h': 'team',\n",
    "            'expected_goals_h': 'xG', 'expected_goals_a': 'xGA'})\n",
    "\n",
    "    x_away_goals = xG_table[\n",
    "        ['fixture', 'team_a', 'expected_goals_a', 'expected_goals_h']].rename(\n",
    "            columns={\n",
    "                'team_a': 'team',\n",
    "                'expected_goals_a': 'xG', 'expected_goals_h': 'xGA'})\n",
    "\n",
    "    xG_table = pd.concat([x_home_goals, x_away_goals])\n",
    "\n",
    "    xG_cumulative = xG_table.groupby(['team', 'fixture']).sum().groupby(\n",
    "        level=0).rolling(window_size, min_periods=1).mean(\n",
    "        ).droplevel(0).reset_index()\n",
    "\n",
    "    xG_cumulative = xG_cumulative[['fixture']].join(xG_cumulative.sort_values(\n",
    "        'fixture').groupby('team').shift(1)[['xG', 'xGA']]).dropna(how='any')\n",
    "\n",
    "    return data.merge(xG_cumulative.drop_duplicates('fixture').merge(\n",
    "        xG_cumulative.drop_duplicates('fixture', keep='last'),\n",
    "        on='fixture', suffixes=['_h', '_a']), on='fixture')"
   ]
  },
  {
   "cell_type": "code",
   "execution_count": 129,
   "metadata": {},
   "outputs": [],
   "source": [
    "data = add_team_performance(data)"
   ]
  },
  {
   "cell_type": "code",
   "execution_count": 117,
   "metadata": {},
   "outputs": [],
   "source": [
    "\n",
    "\n",
    "\n",
    "\n",
    "\n",
    "x_home_goals = data[data['was_home']].groupby(['fixture','team_h'], as_index=False)[['expected_goals']].sum()\n",
    "x_away_goals = data[~data['was_home']].groupby(['fixture','team_a'], as_index=False)[['expected_goals']].sum()\n",
    "\n",
    "\n",
    "xG_table = x_away_goals.merge(x_home_goals, on='fixture', suffixes=['_a', '_h'])\n",
    "\n",
    "x_home_goals = xG_table[['fixture', 'team_h', 'expected_goals_h', 'expected_goals_a']].rename(\n",
    "        columns={'team_h':'team', 'expected_goals_h': 'xG', 'expected_goals_a': 'xGA'})\n",
    "\n",
    "x_away_goals = xG_table[\n",
    "    ['fixture', 'team_a', 'expected_goals_a', 'expected_goals_h']].rename(\n",
    "        columns={'team_a':'team', 'expected_goals_a': 'xG', 'expected_goals_h': 'xGA'})\n",
    "\n",
    "xG_table = pd.concat([x_home_goals, x_away_goals])\n",
    "\n",
    "xG_cumulative = xG_table.groupby(['team', 'fixture']).sum().groupby(level=0).rolling(38, min_periods=1).mean().droplevel(0).reset_index()\n",
    "\n",
    "xG_cumulative = xG_cumulative[['fixture']].join(xG_cumulative.sort_values('fixture').groupby('team').shift(1)[['xG', 'xGA']]).dropna(how='any')\n",
    "\n",
    "data = data.merge(xG_cumulative.drop_duplicates('fixture').merge(xG_cumulative.drop_duplicates('fixture', keep='last'), on='fixture', suffixes=['_h', '_a']), on='fixture')\n"
   ]
  }
 ],
 "metadata": {
  "kernelspec": {
   "display_name": "gene_env",
   "language": "python",
   "name": "python3"
  },
  "language_info": {
   "codemirror_mode": {
    "name": "ipython",
    "version": 3
   },
   "file_extension": ".py",
   "mimetype": "text/x-python",
   "name": "python",
   "nbconvert_exporter": "python",
   "pygments_lexer": "ipython3",
   "version": "3.9.5"
  },
  "orig_nbformat": 4
 },
 "nbformat": 4,
 "nbformat_minor": 2
}
