{
 "cells": [
  {
   "cell_type": "code",
   "execution_count": 1,
   "metadata": {},
   "outputs": [],
   "source": [
    "import requests\n",
    "import pandas as pd\n",
    "import numpy as np\n",
    "from tqdm.notebook import tqdm\n",
    "\n",
    "# from tensorflow.keras import datasets, layers, models\n",
    "# import matplotlib.pyplot as plt\n",
    "\n",
    "from sklearn.preprocessing import MinMaxScaler\n",
    "\n",
    "pd.set_option('display.max_rows', 500)\n",
    "pd.set_option('display.max_columns', 500)"
   ]
  },
  {
   "cell_type": "code",
   "execution_count": 6,
   "metadata": {},
   "outputs": [
    {
     "data": {
      "text/plain": [
       "array([27., 35., 38.])"
      ]
     },
     "execution_count": 6,
     "metadata": {},
     "output_type": "execute_result"
    }
   ],
   "source": [
    "np.ceil(38*np.cumsum(np.array([0.7,0.2,0.1])))"
   ]
  },
  {
   "cell_type": "code",
   "execution_count": null,
   "metadata": {},
   "outputs": [],
   "source": [
    "data = pd.read_csv('data/data.csv', parse_dates=['kickoff_time'])"
   ]
  },
  {
   "cell_type": "code",
   "execution_count": null,
   "metadata": {},
   "outputs": [],
   "source": [
    "cutoff = 35\n",
    "\n",
    "data_mid = data[(data['position'] == 'FWD')].reset_index(drop=True)\n",
    "\n",
    "train_data = data_mid[data_mid['round'] < cutoff].drop('round', axis=1)\n",
    "test_data = data_mid[data_mid['round'] >= cutoff].drop('round', axis=1)\n",
    "\n",
    "\n",
    "\n",
    "wrangling_columns = ['element']\n",
    "\n",
    "no_scaling = [\n",
    "    'was_home', 'clean_sheets', 'yellow_cards', 'red_cards',\n",
    "    'starts']\n",
    "\n",
    "bounded_vars = ['minutes', 'bonus']  # minmax scaling\n",
    "\n",
    "out_metrics = [\n",
    "    'penalties_missed', 'goals_scored', 'assists', 'expected_goals',\n",
    "    'expected_assists', 'expected_goal_involvements']\n",
    "\n",
    "gkp_metrics = ['penalties_saved', 'saves']\n",
    "\n",
    "count_vars = ['goals_conceded', 'own_goals']\n",
    "\n",
    "fantasy_metrics = [\n",
    "    'bps', 'influence', 'creativity', 'threat', 'ict_index', 'value',\n",
    "    'transfers_balance', 'selected', 'transfers_in', 'transfers_out', 'total_points']\n",
    "\n",
    "x_metrics = ['expected_goals_conceded']\n",
    "\n",
    "time_metrics = ['time_diffs']"
   ]
  },
  {
   "cell_type": "code",
   "execution_count": null,
   "metadata": {},
   "outputs": [],
   "source": [
    "scaler = MinMaxScaler().set_output(transform='pandas')\n",
    "\n",
    "scaler_y =  MinMaxScaler()\n",
    "scaler_y.fit(train_data[['total_points']])\n",
    "\n",
    "min_max_vars = bounded_vars + out_metrics + count_vars + fantasy_metrics + x_metrics + time_metrics\n",
    "\n",
    "scaler.fit(train_data[min_max_vars])\n",
    "train_data = train_data[no_scaling + wrangling_columns].join(scaler.transform(train_data[min_max_vars]))\n",
    "test_data = test_data[no_scaling + wrangling_columns].join(scaler.transform(test_data[min_max_vars]))"
   ]
  },
  {
   "cell_type": "code",
   "execution_count": null,
   "metadata": {},
   "outputs": [],
   "source": [
    "window_size = 3\n",
    "\n",
    "def get_window_arrays(data):\n",
    "\n",
    "    X, y = [], []\n",
    "    for player in tqdm(data['element'].unique(), desc='creating frames'):\n",
    "\n",
    "        player_data = data[\n",
    "            data['element'] == player].drop('element', axis=1).reset_index(\n",
    "            drop=True).copy()\n",
    "\n",
    "        frame_generator = player_data.drop(\n",
    "            player_data.tail(1).index).rolling(window=window_size)\n",
    "\n",
    "        for window in frame_generator:\n",
    "\n",
    "            if len(window) >= window_size:\n",
    "                X.append(np.array(window, float))\n",
    "\n",
    "                points_index = window.index[-1]\n",
    "\n",
    "                y.append(player_data['total_points'].loc[points_index + 1])\n",
    "\n",
    "    return np.array(X), np.array(y, float)\n",
    "\n",
    "X_train, y_train = get_window_arrays(train_data)\n",
    "X_test, y_test = get_window_arrays(test_data)\n",
    "\n",
    "np.save('data/X_train', X_train)\n",
    "np.save('data/y_train', y_train)\n",
    "np.save('data/X_test', X_test)\n",
    "np.save('data/y_test', y_test)\n",
    "\n",
    "X_test.shape\n"
   ]
  },
  {
   "cell_type": "code",
   "execution_count": null,
   "metadata": {},
   "outputs": [],
   "source": []
  },
  {
   "cell_type": "code",
   "execution_count": null,
   "metadata": {},
   "outputs": [],
   "source": [
    "import tensorflow as tf\n",
    "\n",
    "from tensorflow.keras import datasets, layers, models\n",
    "import matplotlib.pyplot as plt\n",
    "\n",
    "# (train_images, train_labels), (test_images, test_labels) = datasets.cifar10.load_data()"
   ]
  },
  {
   "cell_type": "code",
   "execution_count": null,
   "metadata": {},
   "outputs": [],
   "source": [
    "\n",
    "\n",
    "\n",
    "model = models.Sequential()\n",
    "model.add(layers.Conv1D(filters=128, kernel_size=2, activation='relu', input_shape=(window_size, 28)))\n",
    "model.add(layers.MaxPooling1D(pool_size=2))\n",
    "model.add(layers.Flatten())\n",
    "model.add(layers.Dense(128, activation='relu'))\n",
    "model.add(layers.Dense(1))\n",
    "\n",
    "\n",
    "\n",
    "model.compile(optimizer='adam', loss='mse')\n",
    "# fit model\n",
    "model.fit(X_train, y_train, epochs=200, verbose=0)\n",
    "preds = np.transpose(model.predict(X_test))[0]\n"
   ]
  },
  {
   "cell_type": "code",
   "execution_count": null,
   "metadata": {},
   "outputs": [],
   "source": [
    "\n",
    "plt.figure(figsize=(30,5))\n",
    "\n",
    "y_test_c = scaler_y.inverse_transform(pd.DataFrame(y_test)).transpose()[0]\n",
    "\n",
    "preds_c = scaler_y.inverse_transform(pd.DataFrame(preds)).transpose()[0]\n",
    "\n",
    "# plt.plot(np.roll(y_test, 1), 'b', marker='.')\n",
    "plt.scatter(np.arange(len(preds_c)), preds_c, marker='x', color='r')\n",
    "plt.scatter(np.arange(len(preds_c)), np.roll(y_test_c, 1),)\n",
    "plt.plot( y_test_c, 'orange', marker='.')\n",
    "# plt.scatter(y_test, 'g', alpha=0.5)\n",
    "\n",
    "plt.show()"
   ]
  },
  {
   "cell_type": "code",
   "execution_count": null,
   "metadata": {},
   "outputs": [],
   "source": [
    "np.ones(len(preds)) + 1"
   ]
  },
  {
   "cell_type": "code",
   "execution_count": null,
   "metadata": {},
   "outputs": [],
   "source": [
    "from sklearn.metrics import mean_squared_error\n",
    "print(mean_squared_error(y_test_c, preds_c, squared=False))\n",
    "\n",
    "mean_squared_error(y_test_c,np.roll(y_test_c, 1), squared=False)"
   ]
  },
  {
   "cell_type": "code",
   "execution_count": null,
   "metadata": {},
   "outputs": [],
   "source": [
    "def moving_average(a, n=10) :\n",
    "    ret = np.cumsum(np.abs(a), dtype=float)\n",
    "    ret[n:] = ret[n:] - ret[:-n]\n",
    "    return ret[n - 1:] / n\n",
    "\n",
    "\n",
    "plt.figure(figsize=(20,10))\n",
    "\n",
    "plt.plot(moving_average(np.roll(y_test, 1)-y_test), 'b', marker='.')\n",
    "plt.plot(moving_average(preds-y_test), 'r', alpha=0.5)\n",
    "plt.plot(moving_average(y_test-y_test), 'r', alpha=0.5)\n",
    "\n",
    "plt.show()"
   ]
  },
  {
   "cell_type": "code",
   "execution_count": null,
   "metadata": {},
   "outputs": [],
   "source": [
    "\n",
    "\n",
    "\n",
    "model = models.Sequential()\n",
    "model.add(layers.Conv1D(filters=28, kernel_size=2, activation='relu', input_shape=(window_size, 28)))\n",
    "model.add(layers.Conv1D(filters=28, kernel_size=2, activation='relu'))\n",
    "\n",
    "model.add(layers.MaxPooling1D(pool_size=2))\n",
    "model.add(layers.Flatten())\n",
    "model.add(layers.Dense(100, activation='relu'))\n",
    "model.add(layers.Dense(100, activation='relu'))\n",
    "model.add(layers.Dense(100, activation='relu'))\n",
    "model.add(layers.Dense(100, activation='relu'))\n",
    "model.add(layers.Dense(100, activation='relu'))\n",
    "model.add(layers.Dense(1))\n",
    "model.compile(optimizer='adam', loss='mse')\n",
    "# fit model\n",
    "model.fit(X_train, y_train, epochs=200, verbose=0)\n",
    "preds = np.transpose(model.predict(X_test))[0]"
   ]
  },
  {
   "cell_type": "code",
   "execution_count": null,
   "metadata": {},
   "outputs": [],
   "source": [
    "model.summary()"
   ]
  },
  {
   "cell_type": "code",
   "execution_count": null,
   "metadata": {},
   "outputs": [],
   "source": []
  },
  {
   "cell_type": "code",
   "execution_count": null,
   "metadata": {},
   "outputs": [],
   "source": [
    "model.summary()"
   ]
  },
  {
   "cell_type": "code",
   "execution_count": null,
   "metadata": {},
   "outputs": [],
   "source": [
    "data[(data['position'] == 'GKP') & (data['minutes'] >= 0)].plot.scatter(x='creativity', y='total_points')"
   ]
  },
  {
   "cell_type": "code",
   "execution_count": null,
   "metadata": {},
   "outputs": [],
   "source": [
    "total_points = data['transfers_balance']\n",
    "\n",
    "total_points.plot.hist(bins=1000)"
   ]
  }
 ],
 "metadata": {
  "kernelspec": {
   "display_name": "gene_env",
   "language": "python",
   "name": "python3"
  },
  "language_info": {
   "codemirror_mode": {
    "name": "ipython",
    "version": 3
   },
   "file_extension": ".py",
   "mimetype": "text/x-python",
   "name": "python",
   "nbconvert_exporter": "python",
   "pygments_lexer": "ipython3",
   "version": "3.9.7"
  },
  "orig_nbformat": 4
 },
 "nbformat": 4,
 "nbformat_minor": 2
}
